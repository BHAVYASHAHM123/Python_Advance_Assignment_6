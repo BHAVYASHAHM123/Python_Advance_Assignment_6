{
  "nbformat": 4,
  "nbformat_minor": 0,
  "metadata": {
    "colab": {
      "name": "Python_Advance_Assignment_6.ipynb",
      "provenance": []
    },
    "kernelspec": {
      "name": "python3",
      "display_name": "Python 3"
    },
    "language_info": {
      "name": "python"
    }
  },
  "cells": [
    {
      "cell_type": "markdown",
      "source": [
        "Q1). Describe three applications for exception processing.\n",
        "\n",
        "Ans) Syntax Error: As the name suggests this error is caused by the wrong syntax in the code. It leads to the termination of the program. \n",
        "\n",
        "Exceptions: Exceptions are raised when the program is syntactically correct, but the code resulted in an error. This error does not stop the execution of the program, however, it changes the normal flow of the program.\n",
        "\n",
        "logical error : an error that occurs after passing the syntax test is called exception or logical type"
      ],
      "metadata": {
        "id": "2F0GPKxkQ0HU"
      }
    },
    {
      "cell_type": "markdown",
      "source": [
        "Q2). What happens if you don't do something extra to treat an exception?\n",
        "\n",
        "Ans)  the program terminates abruptly and the code past the line that caused the exception will not get executed."
      ],
      "metadata": {
        "id": "QRrJQR4JQ0Dw"
      }
    },
    {
      "cell_type": "markdown",
      "source": [
        "Q3). What are your options for recovering from an exception in your script?\n",
        "\n",
        "Ans) a try block that encloses the code section which might throw an exception,\n",
        "one or more catch blocks that handle the exception and a finally block which gets executed after the try block was successfully executed or a thrown exception was handled."
      ],
      "metadata": {
        "id": "PV0jtQn3Q0BD"
      }
    },
    {
      "cell_type": "markdown",
      "source": [
        "Q4). Describe two methods for triggering exceptions in your script.\n",
        "\n",
        "Ans) Try – This method catches the exceptions raised by the program.\n",
        "Raise – Triggers an exception manually using custom exceptions."
      ],
      "metadata": {
        "id": "f49_b_FXQz-K"
      }
    },
    {
      "cell_type": "markdown",
      "source": [
        "Q5) Identify two methods for specifying actions to be executed at termination time, regardless of whether or not an exception exists.\n",
        "\n",
        "Ans) The uncaught_exception() function is most useful for preventing program termination."
      ],
      "metadata": {
        "id": "yPGfS-X9Qz7I"
      }
    }
  ]
}